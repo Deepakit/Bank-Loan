{
 "cells": [
  {
   "cell_type": "code",
   "execution_count": 1,
   "metadata": {},
   "outputs": [
    {
     "ename": "NameError",
     "evalue": "name 'log_model' is not defined",
     "output_type": "error",
     "traceback": [
      "\u001b[1;31m---------------------------------------------------------------------------\u001b[0m",
      "\u001b[1;31mNameError\u001b[0m                                 Traceback (most recent call last)",
      "\u001b[1;32m<ipython-input-1-9d7f1b3bd19e>\u001b[0m in \u001b[0;36m<module>\u001b[1;34m\u001b[0m\n\u001b[0;32m      3\u001b[0m \u001b[1;33m\u001b[0m\u001b[0m\n\u001b[0;32m      4\u001b[0m \u001b[1;32mfrom\u001b[0m \u001b[0mnumpy\u001b[0m \u001b[1;32mimport\u001b[0m \u001b[0marange\u001b[0m\u001b[1;33m,\u001b[0m\u001b[0margmax\u001b[0m\u001b[1;33m\u001b[0m\u001b[1;33m\u001b[0m\u001b[0m\n\u001b[1;32m----> 5\u001b[1;33m \u001b[0my_pred_prob\u001b[0m \u001b[1;33m=\u001b[0m \u001b[0mlog_model\u001b[0m\u001b[1;33m.\u001b[0m\u001b[0mpredict_proba\u001b[0m\u001b[1;33m(\u001b[0m\u001b[0mtest_x\u001b[0m\u001b[1;33m)\u001b[0m\u001b[1;33m\u001b[0m\u001b[1;33m\u001b[0m\u001b[0m\n\u001b[0m\u001b[0;32m      6\u001b[0m \u001b[0mprobs\u001b[0m \u001b[1;33m=\u001b[0m \u001b[0my_pred_prob\u001b[0m\u001b[1;33m[\u001b[0m\u001b[1;33m:\u001b[0m\u001b[1;33m,\u001b[0m\u001b[1;36m1\u001b[0m\u001b[1;33m]\u001b[0m\u001b[1;33m\u001b[0m\u001b[1;33m\u001b[0m\u001b[0m\n\u001b[0;32m      7\u001b[0m \u001b[0mthresholds\u001b[0m \u001b[1;33m=\u001b[0m \u001b[0marange\u001b[0m\u001b[1;33m(\u001b[0m\u001b[1;36m0\u001b[0m\u001b[1;33m,\u001b[0m\u001b[1;36m1\u001b[0m\u001b[1;33m,\u001b[0m\u001b[1;36m0.001\u001b[0m\u001b[1;33m)\u001b[0m\u001b[1;33m\u001b[0m\u001b[1;33m\u001b[0m\u001b[0m\n",
      "\u001b[1;31mNameError\u001b[0m: name 'log_model' is not defined"
     ]
    }
   ],
   "source": [
    "def to_labels(prob,t):\n",
    "    return(prob>=t).astype('int')\n",
    "\n",
    "from numpy import arange,argmax\n",
    "y_pred_prob = log_model.predict_proba(test_x)\n",
    "probs = y_pred_prob[:,1]\n",
    "thresholds = arange(0,1,0.001)\n",
    "\n",
    "scores = [f1_score(test_y,to_labels(probs,t))for t in thresholds]\n",
    "ix = argmax(scores)\n",
    "print(\"Threshold=%.3f , F-score=%.5f\"%(thresholds[ix],scores[ix]))\n",
    "\n",
    "\n",
    "\n",
    "decision = (log_model.predict_proba(test_x)>=thresholds[ix]).astype(int)\n",
    "decision.mean()"
   ]
  },
  {
   "cell_type": "code",
   "execution_count": 2,
   "metadata": {},
   "outputs": [],
   "source": [
    "##def outlier_removal(df):\n",
    "  ##  for i in columns:\n",
    "    ##    q75,q25 = np.percentile(df.loc[:,i],[75,25])\n",
    "      ##  iqr = q75-q25\n",
    "        ##min = q25 -(iqr*1.5)\n",
    "      ##  max = q75 +(iqr*1.5)\n",
    "      ##  df = df.drop(df[df.loc[:,i]<min].index)\n",
    "       ## df = df.drop(df[df.loc[:,i]>max].index)\n",
    "    ##return df\n",
    "#bank_df = outlier_removal(bank_df)\n",
    "#print(\"Total outlier removed are:\",copy_original_df.shape[0]-bank_df.shape[0])"
   ]
  },
  {
   "cell_type": "code",
   "execution_count": null,
   "metadata": {},
   "outputs": [],
   "source": []
  }
 ],
 "metadata": {
  "kernelspec": {
   "display_name": "Python 3",
   "language": "python",
   "name": "python3"
  },
  "language_info": {
   "codemirror_mode": {
    "name": "ipython",
    "version": 3
   },
   "file_extension": ".py",
   "mimetype": "text/x-python",
   "name": "python",
   "nbconvert_exporter": "python",
   "pygments_lexer": "ipython3",
   "version": "3.8.5"
  }
 },
 "nbformat": 4,
 "nbformat_minor": 4
}
